{
  "cells": [
    {
      "cell_type": "markdown",
      "metadata": {
        "id": "view-in-github",
        "colab_type": "text"
      },
      "source": [
        "<a href=\"https://colab.research.google.com/github/huyqcl377/Pham-Quang-Huy/blob/main/MFCC_1D.ipynb\" target=\"_parent\"><img src=\"https://colab.research.google.com/assets/colab-badge.svg\" alt=\"Open In Colab\"/></a>"
      ]
    },
    {
      "cell_type": "code",
      "execution_count": 1,
      "metadata": {
        "id": "x4ByZcyoBxcb"
      },
      "outputs": [],
      "source": [
        "import os\n",
        "import zipfile\n",
        "import random\n",
        "import shutil\n",
        "import tensorflow as tf\n",
        "from shutil import copyfile\n",
        "import matplotlib.pyplot as plt"
      ]
    },
    {
      "cell_type": "code",
      "execution_count": 2,
      "metadata": {
        "colab": {
          "base_uri": "https://localhost:8080/"
        },
        "id": "vzkZ1_XNOhSy",
        "outputId": "64321c36-c5be-480b-f938-ca0cac55e44c"
      },
      "outputs": [
        {
          "output_type": "stream",
          "name": "stdout",
          "text": [
            "Mounted at /content/drive\n"
          ]
        }
      ],
      "source": [
        "from google.colab import drive\n",
        "drive.mount('/content/drive')"
      ]
    },
    {
      "cell_type": "code",
      "execution_count": 3,
      "metadata": {
        "id": "dmdZP7vgjWPF"
      },
      "outputs": [],
      "source": [
        "local_zip = '/content/drive/MyDrive/MFCC numpy 20k bee dataset.zip'\n",
        "zip_ref   = zipfile.ZipFile(local_zip, 'r')\n",
        "zip_ref.extractall('/tmp')\n",
        "zip_ref.close()"
      ]
    },
    {
      "cell_type": "code",
      "source": [
        "import numpy as np\n",
        "import os\n",
        "from sklearn.model_selection import train_test_split\n",
        "from sklearn.preprocessing import LabelEncoder\n",
        "import tensorflow as tf\n",
        "\n",
        "# Folder paths for training, validation, and test data\n",
        "TRAINING_DIR = \"/tmp/MFCC numpy 20k bee dataset/train\"\n",
        "VALIDATION_DIR = \"/tmp/MFCC numpy 20k bee dataset/val\"\n",
        "TEST_DIR = \"/tmp/MFCC numpy 20k bee dataset/test\"\n",
        "\n",
        "# Load MFCC features from numpy arrays\n",
        "def load_data(directory):\n",
        "    mfcc_features = []\n",
        "    labels = []\n",
        "    for label in os.listdir(directory):\n",
        "        label_dir = os.path.join(directory, label)\n",
        "        if not os.path.isdir(label_dir):\n",
        "            continue\n",
        "        for filename in os.listdir(label_dir):\n",
        "            file_path = os.path.join(label_dir, filename)\n",
        "            if not os.path.isfile(file_path):\n",
        "                continue\n",
        "            mfcc = np.load(file_path)\n",
        "            mfcc_features.append(mfcc)\n",
        "            labels.append(label)\n",
        "    return mfcc_features, labels\n",
        "\n",
        "# Load training data\n",
        "train_mfcc_features, train_labels = load_data(TRAINING_DIR)\n",
        "\n",
        "# Load validation data\n",
        "val_mfcc_features, val_labels = load_data(VALIDATION_DIR)\n",
        "\n",
        "# Load test data\n",
        "test_mfcc_features, test_labels = load_data(TEST_DIR)\n",
        "\n",
        "# Convert labels to numeric values\n",
        "label_encoder = LabelEncoder()\n",
        "encoded_train_labels = label_encoder.fit_transform(train_labels)\n",
        "encoded_val_labels = label_encoder.transform(val_labels)\n",
        "encoded_test_labels = label_encoder.transform(test_labels)\n",
        "\n",
        "# Convert the data to NumPy arrays\n",
        "X_train = np.array(train_mfcc_features)\n",
        "y_train = np.array(encoded_train_labels)\n",
        "\n",
        "X_val = np.array(val_mfcc_features)\n",
        "y_val = np.array(encoded_val_labels)\n",
        "\n",
        "X_test = np.array(test_mfcc_features)\n",
        "y_test = np.array(encoded_test_labels)\n",
        "\n",
        "# Convert the target labels to one-hot encoded format\n",
        "y_train = tf.keras.utils.to_categorical(y_train, num_classes=2)\n",
        "y_val = tf.keras.utils.to_categorical(y_val, num_classes=2)\n",
        "y_test = tf.keras.utils.to_categorical(y_test, num_classes=2)\n",
        "\n",
        "# Reshape the input data\n",
        "X_train = X_train.reshape(X_train.shape[0], X_train.shape[1], 1)\n",
        "X_val = X_val.reshape(X_val.shape[0], X_val.shape[1], 1)\n",
        "X_test = X_test.reshape(X_test.shape[0], X_test.shape[1], 1)\n",
        "\n",
        "# Determine the shape of the MFCC features\n",
        "input_shape = X_train.shape[1:]\n",
        "\n",
        "# Define the model architecture\n",
        "def create_model(input_shape):\n",
        "    model = tf.keras.models.Sequential([\n",
        "        tf.keras.layers.Conv1D(16, 3, activation='relu', input_shape=input_shape),\n",
        "        tf.keras.layers.MaxPooling1D(2),\n",
        "        tf.keras.layers.Conv1D(32, 3, activation='relu'),\n",
        "        tf.keras.layers.MaxPooling1D(2),\n",
        "        tf.keras.layers.Conv1D(64, 3, activation='relu'),\n",
        "        tf.keras.layers.MaxPooling1D(2),\n",
        "        tf.keras.layers.Flatten(),\n",
        "        tf.keras.layers.Dense(256, activation='relu'),\n",
        "        tf.keras.layers.Dense(2, activation='sigmoid')\n",
        "    ])\n",
        "    return model\n",
        "\n",
        "# Create the model\n",
        "model = create_model(input_shape=input_shape)\n",
        "\n",
        "# Compile the model\n",
        "model.compile(optimizer=tf.keras.optimizers.Adam(learning_rate=0.0001),\n",
        "              loss=tf.keras.losses.CategoricalCrossentropy(),\n",
        "              metrics=['accuracy'])\n",
        "\n",
        "# Define the callback for stopping training\n",
        "from tensorflow.keras.callbacks import EarlyStopping\n",
        "early_stopping_callback = EarlyStopping(monitor='val_loss', patience=10, restore_best_weights=True)\n",
        "\n",
        "# Train the model with the callback\n",
        "history2 = model.fit(X_train, y_train, epochs=200, validation_data=(X_val, y_val), callbacks=[early_stopping_callback])\n",
        "model.save('/content/drive/MyDrive/Models/CNNsigmoid1D.h5')\n"
      ],
      "metadata": {
        "colab": {
          "base_uri": "https://localhost:8080/"
        },
        "id": "ay8WcH9CNyXN",
        "outputId": "90af196e-c860-4ada-d0ec-4bb475123057"
      },
      "execution_count": null,
      "outputs": [
        {
          "output_type": "stream",
          "name": "stdout",
          "text": [
            "Epoch 1/200\n",
            "438/438 [==============================] - 10s 16ms/step - loss: 0.7266 - accuracy: 0.6174 - val_loss: 0.6348 - val_accuracy: 0.5985\n",
            "Epoch 2/200\n",
            "438/438 [==============================] - 5s 11ms/step - loss: 0.5422 - accuracy: 0.7308 - val_loss: 0.5893 - val_accuracy: 0.6560\n",
            "Epoch 3/200\n",
            "438/438 [==============================] - 5s 11ms/step - loss: 0.4910 - accuracy: 0.7613 - val_loss: 0.4653 - val_accuracy: 0.7750\n",
            "Epoch 4/200\n",
            "438/438 [==============================] - 7s 15ms/step - loss: 0.4385 - accuracy: 0.7961 - val_loss: 0.4130 - val_accuracy: 0.8085\n",
            "Epoch 5/200\n",
            "438/438 [==============================] - 4s 10ms/step - loss: 0.4336 - accuracy: 0.7944 - val_loss: 0.4053 - val_accuracy: 0.8065\n",
            "Epoch 6/200\n",
            "438/438 [==============================] - 3s 6ms/step - loss: 0.4115 - accuracy: 0.8097 - val_loss: 0.4321 - val_accuracy: 0.7835\n",
            "Epoch 7/200\n",
            "438/438 [==============================] - 3s 6ms/step - loss: 0.4034 - accuracy: 0.8096 - val_loss: 0.3784 - val_accuracy: 0.8255\n",
            "Epoch 8/200\n",
            "438/438 [==============================] - 4s 10ms/step - loss: 0.3798 - accuracy: 0.8246 - val_loss: 0.3908 - val_accuracy: 0.8225\n",
            "Epoch 9/200\n",
            "438/438 [==============================] - 3s 6ms/step - loss: 0.3855 - accuracy: 0.8208 - val_loss: 0.3524 - val_accuracy: 0.8350\n",
            "Epoch 10/200\n",
            "438/438 [==============================] - 3s 6ms/step - loss: 0.3595 - accuracy: 0.8384 - val_loss: 0.3531 - val_accuracy: 0.8415\n",
            "Epoch 11/200\n",
            "438/438 [==============================] - 3s 6ms/step - loss: 0.3611 - accuracy: 0.8334 - val_loss: 0.3376 - val_accuracy: 0.8445\n",
            "Epoch 12/200\n",
            "438/438 [==============================] - 3s 7ms/step - loss: 0.3443 - accuracy: 0.8454 - val_loss: 0.3275 - val_accuracy: 0.8530\n",
            "Epoch 13/200\n",
            "438/438 [==============================] - 4s 9ms/step - loss: 0.3429 - accuracy: 0.8462 - val_loss: 0.3233 - val_accuracy: 0.8495\n",
            "Epoch 14/200\n",
            "438/438 [==============================] - 3s 6ms/step - loss: 0.3395 - accuracy: 0.8468 - val_loss: 0.3360 - val_accuracy: 0.8495\n",
            "Epoch 15/200\n",
            "438/438 [==============================] - 3s 6ms/step - loss: 0.3313 - accuracy: 0.8545 - val_loss: 0.3085 - val_accuracy: 0.8655\n",
            "Epoch 16/200\n",
            "438/438 [==============================] - 3s 7ms/step - loss: 0.3191 - accuracy: 0.8599 - val_loss: 0.3174 - val_accuracy: 0.8550\n",
            "Epoch 17/200\n",
            "438/438 [==============================] - 4s 9ms/step - loss: 0.3177 - accuracy: 0.8614 - val_loss: 0.2955 - val_accuracy: 0.8665\n",
            "Epoch 18/200\n",
            "438/438 [==============================] - 3s 8ms/step - loss: 0.3059 - accuracy: 0.8703 - val_loss: 0.3017 - val_accuracy: 0.8665\n",
            "Epoch 19/200\n",
            "438/438 [==============================] - 3s 6ms/step - loss: 0.3087 - accuracy: 0.8665 - val_loss: 0.2895 - val_accuracy: 0.8705\n",
            "Epoch 20/200\n",
            "438/438 [==============================] - 3s 6ms/step - loss: 0.2959 - accuracy: 0.8707 - val_loss: 0.2887 - val_accuracy: 0.8715\n",
            "Epoch 21/200\n",
            "438/438 [==============================] - 3s 6ms/step - loss: 0.2975 - accuracy: 0.8694 - val_loss: 0.2829 - val_accuracy: 0.8775\n",
            "Epoch 22/200\n",
            "438/438 [==============================] - 4s 8ms/step - loss: 0.2984 - accuracy: 0.8699 - val_loss: 0.2937 - val_accuracy: 0.8695\n",
            "Epoch 23/200\n",
            "438/438 [==============================] - 3s 7ms/step - loss: 0.2893 - accuracy: 0.8776 - val_loss: 0.2688 - val_accuracy: 0.8795\n",
            "Epoch 24/200\n",
            "438/438 [==============================] - 3s 6ms/step - loss: 0.2836 - accuracy: 0.8776 - val_loss: 0.2767 - val_accuracy: 0.8735\n",
            "Epoch 25/200\n",
            "438/438 [==============================] - 3s 6ms/step - loss: 0.2801 - accuracy: 0.8829 - val_loss: 0.2660 - val_accuracy: 0.8800\n",
            "Epoch 26/200\n",
            "284/438 [==================>...........] - ETA: 0s - loss: 0.2841 - accuracy: 0.8795"
          ]
        }
      ]
    },
    {
      "cell_type": "code",
      "source": [
        "import numpy as np\n",
        "from sklearn.metrics import confusion_matrix, classification_report\n",
        "from sklearn.metrics import precision_score\n",
        "test_loss, test_accuracy = model.evaluate(X_test, y_test)\n",
        "print(f\"Test Loss: {test_loss}\")\n",
        "print(f\"Test Accuracy: {test_accuracy}\")\n",
        "# Get the model predictions on the test set\n",
        "y_pred_probs = model.predict(X_test)\n",
        "y_pred = np.argmax(y_pred_probs, axis=1)\n",
        "\n",
        "decoded_test_labels = label_encoder.inverse_transform(np.argmax(y_test, axis=1))\n",
        "decoded_pred_labels = label_encoder.inverse_transform(y_pred)\n",
        "\n",
        "confusion_mat = confusion_matrix(decoded_test_labels, decoded_pred_labels)\n",
        "print(\"Confusion Matrix:\")\n",
        "print(confusion_mat)\n",
        "\n",
        "from sklearn.metrics import classification_report, confusion_matrix\n",
        "print(classification_report(decoded_test_labels, decoded_pred_labels))"
      ],
      "metadata": {
        "colab": {
          "base_uri": "https://localhost:8080/"
        },
        "id": "T7abrsesO9Mu",
        "outputId": "24761db9-651b-459c-ab24-6cd4abb934a6"
      },
      "execution_count": 32,
      "outputs": [
        {
          "output_type": "stream",
          "name": "stdout",
          "text": [
            "125/125 [==============================] - 0s 3ms/step - loss: 0.2044 - accuracy: 0.9143\n",
            "Test Loss: 0.20439383387565613\n",
            "Test Accuracy: 0.9142500162124634\n",
            "125/125 [==============================] - 0s 2ms/step\n",
            "Confusion Matrix:\n",
            "[[1743  257]\n",
            " [  86 1914]]\n",
            "              precision    recall  f1-score   support\n",
            "\n",
            "       Queen       0.95      0.87      0.91      2000\n",
            "   Queenless       0.88      0.96      0.92      2000\n",
            "\n",
            "    accuracy                           0.91      4000\n",
            "   macro avg       0.92      0.91      0.91      4000\n",
            "weighted avg       0.92      0.91      0.91      4000\n",
            "\n"
          ]
        }
      ]
    },
    {
      "cell_type": "code",
      "source": [
        "\n",
        "acc=history2.history['accuracy']\n",
        "val_acc=history2.history['val_accuracy']\n",
        "loss=history2.history['loss']\n",
        "val_loss=history2.history['val_loss']\n",
        "\n",
        "epochs=range(len(acc))\n",
        "\n",
        "plt.plot(epochs, acc, 'r', \"Training Accuracy\")\n",
        "plt.plot(epochs, val_acc, 'b', \"Validation Accuracy\")\n",
        "plt.title('Training and validation accuracy')\n",
        "plt.show()\n",
        "print(\"\")\n",
        "\n",
        "plt.plot(epochs, loss, 'r', \"Training Loss\")\n",
        "plt.plot(epochs, val_loss, 'b', \"Validation Loss\")\n",
        "plt.show()"
      ],
      "metadata": {
        "id": "3ErBNLARJw5T",
        "colab": {
          "base_uri": "https://localhost:8080/",
          "height": 883
        },
        "outputId": "dedadfb5-adb1-46dd-f35a-f412306060c7"
      },
      "execution_count": 33,
      "outputs": [
        {
          "output_type": "display_data",
          "data": {
            "text/plain": [
              "<Figure size 640x480 with 1 Axes>"
            ],
            "image/png": "[encoded data removed]"
          },
          "metadata": {}
        },
        {
          "output_type": "stream",
          "name": "stdout",
          "text": [
            "\n"
          ]
        },
        {
          "output_type": "display_data",
          "data": {
            "text/plain": [
              "<Figure size 640x480 with 1 Axes>"
            ],
            "image/png": "[encoded data removed]"
          },
          "metadata": {}
        }
      ]
    },
    {
      "cell_type": "code",
      "source": [
        "#SVM + MFCCs\n",
        "import numpy as np\n",
        "import os\n",
        "from sklearn.model_selection import train_test_split\n",
        "from sklearn.svm import SVC\n",
        "from sklearn.metrics import classification_report, accuracy_score, confusion_matrix\n",
        "from sklearn.preprocessing import LabelEncoder\n",
        "\n",
        "# Folder paths for training, validation, and test data\n",
        "TRAINING_DIR = \"/tmp/MFCC numpy 20k bee dataset/train\"\n",
        "VALIDATION_DIR = \"/tmp/MFCC numpy 20k bee dataset/val\"\n",
        "TEST_DIR = \"/tmp/MFCC numpy 20k bee dataset/test\"\n",
        "\n",
        "# Load MFCC features from numpy arrays\n",
        "def load_data(directory):\n",
        "    mfcc_features = []\n",
        "    labels = []\n",
        "    for label in os.listdir(directory):\n",
        "        label_dir = os.path.join(directory, label)\n",
        "        if not os.path.isdir(label_dir):\n",
        "            continue\n",
        "        for filename in os.listdir(label_dir):\n",
        "            file_path = os.path.join(label_dir, filename)\n",
        "            if not os.path.isfile(file_path):\n",
        "                continue\n",
        "            mfcc = np.load(file_path)\n",
        "            mfcc_features.append(mfcc)\n",
        "            labels.append(label)\n",
        "    return mfcc_features, labels\n",
        "\n",
        "# Load training data\n",
        "train_mfcc_features, train_labels = load_data(TRAINING_DIR)\n",
        "\n",
        "# Load validation data\n",
        "val_mfcc_features, val_labels = load_data(VALIDATION_DIR)\n",
        "\n",
        "# Load test data\n",
        "test_mfcc_features, test_labels = load_data(TEST_DIR)\n",
        "\n",
        "# Convert labels to numeric values\n",
        "label_encoder = LabelEncoder()\n",
        "encoded_train_labels = label_encoder.fit_transform(train_labels)\n",
        "encoded_val_labels = label_encoder.transform(val_labels)\n",
        "encoded_test_labels = label_encoder.transform(test_labels)\n",
        "\n",
        "# Convert the data to NumPy arrays\n",
        "X_train = np.array(train_mfcc_features)\n",
        "y_train = np.array(encoded_train_labels)\n",
        "\n",
        "X_val = np.array(val_mfcc_features)\n",
        "y_val = np.array(encoded_val_labels)\n",
        "\n",
        "X_test = np.array(test_mfcc_features)\n",
        "y_test = np.array(encoded_test_labels)\n",
        "\n",
        "# Train the SVM model\n",
        "svm = SVC()\n",
        "svm.fit(X_train, y_train)\n",
        "\n",
        "# Predict labels for validation data\n",
        "y_val_pred = svm.predict(X_val)\n",
        "\n",
        "# Convert the predicted validation labels back to original labels\n",
        "predicted_val_labels = label_encoder.inverse_transform(y_val_pred)\n",
        "\n",
        "# Evaluate the model on validation data\n",
        "accuracy = accuracy_score(val_labels, predicted_val_labels)\n",
        "report = classification_report(val_labels, predicted_val_labels)\n",
        "confusion_mat = confusion_matrix(val_labels, predicted_val_labels)\n",
        "\n",
        "# Print the evaluation metrics and confusion matrix\n",
        "print(\"SVM Classifier:\")\n",
        "print(\"Accuracy:\", accuracy)\n",
        "print(\"Classification Report:\")\n",
        "print(report)\n",
        "print(\"Confusion Matrix:\")\n",
        "print(confusion_mat)"
      ],
      "metadata": {
        "id": "SLNDRdr9p77J",
        "colab": {
          "base_uri": "https://localhost:8080/"
        },
        "outputId": "1dbf5c58-feda-43e6-bd2b-3def36a67bb5"
      },
      "execution_count": 16,
      "outputs": [
        {
          "output_type": "stream",
          "name": "stdout",
          "text": [
            "SVM Classifier:\n",
            "Accuracy: 0.677\n",
            "Classification Report:\n",
            "              precision    recall  f1-score   support\n",
            "\n",
            "       Queen       0.65      0.76      0.70      1000\n",
            "   Queenless       0.71      0.59      0.65      1000\n",
            "\n",
            "    accuracy                           0.68      2000\n",
            "   macro avg       0.68      0.68      0.67      2000\n",
            "weighted avg       0.68      0.68      0.67      2000\n",
            "\n",
            "Confusion Matrix:\n",
            "[[762 238]\n",
            " [408 592]]\n"
          ]
        }
      ]
    },
    {
      "cell_type": "code",
      "source": [
        "#RANDOM FOREST + MFCCs\n",
        "import numpy as np\n",
        "import os\n",
        "from sklearn.ensemble import RandomForestClassifier\n",
        "from sklearn.metrics import classification_report, accuracy_score, confusion_matrix\n",
        "from sklearn.preprocessing import LabelEncoder\n",
        "\n",
        "# Folder paths for training, validation, and test data\n",
        "TRAINING_DIR = \"/tmp/MFCC numpy 20k bee dataset/train\"\n",
        "VALIDATION_DIR = \"/tmp/MFCC numpy 20k bee dataset/val\"\n",
        "TEST_DIR = \"/tmp/MFCC numpy 20k bee dataset/test\"\n",
        "\n",
        "# Load MFCC features from numpy arrays\n",
        "def load_data(directory):\n",
        "    mfcc_features = []\n",
        "    labels = []\n",
        "    for label in os.listdir(directory):\n",
        "        label_dir = os.path.join(directory, label)\n",
        "        if not os.path.isdir(label_dir):\n",
        "            continue\n",
        "        for filename in os.listdir(label_dir):\n",
        "            file_path = os.path.join(label_dir, filename)\n",
        "            if not os.path.isfile(file_path):\n",
        "                continue\n",
        "            mfcc = np.load(file_path)\n",
        "            mfcc_features.append(mfcc)\n",
        "            labels.append(label)\n",
        "    return mfcc_features, labels\n",
        "\n",
        "# Load training data\n",
        "train_mfcc_features, train_labels = load_data(TRAINING_DIR)\n",
        "\n",
        "# Load validation data\n",
        "val_mfcc_features, val_labels = load_data(VALIDATION_DIR)\n",
        "\n",
        "# Load test data\n",
        "test_mfcc_features, test_labels = load_data(TEST_DIR)\n",
        "\n",
        "\n",
        "# Convert labels to numeric values\n",
        "label_encoder = LabelEncoder()\n",
        "encoded_train_labels = label_encoder.fit_transform(train_labels)\n",
        "encoded_val_labels = label_encoder.transform(val_labels)\n",
        "encoded_test_labels = label_encoder.transform(test_labels)\n",
        "\n",
        "# Convert the data to NumPy arrays\n",
        "X_train = np.array(train_mfcc_features)\n",
        "X_train = X_train.reshape(X_train.shape[0], -1)\n",
        "y_train = np.array(encoded_train_labels)\n",
        "\n",
        "X_val = np.array(val_mfcc_features)\n",
        "X_val = X_val.reshape(X_val.shape[0], -1)\n",
        "y_val = np.array(encoded_val_labels)\n",
        "\n",
        "X_test = np.array(test_mfcc_features)\n",
        "X_test = X_test.reshape(X_test.shape[0], -1)\n",
        "y_test = np.array(encoded_test_labels)\n",
        "\n",
        "# Train the Random Forest classifier\n",
        "rf = RandomForestClassifier()\n",
        "rf.fit(X_train, y_train)\n",
        "\n",
        "# Predict labels for validation data\n",
        "y_val_pred = rf.predict(X_val)\n",
        "\n",
        "# Convert the predicted validation labels back to original labels\n",
        "predicted_val_labels = label_encoder.inverse_transform(y_val_pred)\n",
        "\n",
        "# Evaluate the model on validation data\n",
        "accuracy = accuracy_score(val_labels, predicted_val_labels)\n",
        "report = classification_report(val_labels, predicted_val_labels)\n",
        "confusion_mat = confusion_matrix(val_labels, predicted_val_labels)\n",
        "\n",
        "# Print the evaluation metrics and confusion matrix\n",
        "print(\"Random Forest Classifier:\")\n",
        "print(\"Accuracy:\", accuracy)\n",
        "print(\"Classification Report:\")\n",
        "print(report)\n",
        "print(\"Confusion Matrix:\")\n",
        "print(confusion_mat)"
      ],
      "metadata": {
        "colab": {
          "base_uri": "https://localhost:8080/"
        },
        "id": "ONQRtW4X7X25",
        "outputId": "472ac76f-658c-4d84-8551-32d7bfb022a0"
      },
      "execution_count": 13,
      "outputs": [
        {
          "output_type": "stream",
          "name": "stdout",
          "text": [
            "Random Forest Classifier:\n",
            "Accuracy: 0.9195\n",
            "Classification Report:\n",
            "              precision    recall  f1-score   support\n",
            "\n",
            "       Queen       0.91      0.93      0.92      1000\n",
            "   Queenless       0.93      0.91      0.92      1000\n",
            "\n",
            "    accuracy                           0.92      2000\n",
            "   macro avg       0.92      0.92      0.92      2000\n",
            "weighted avg       0.92      0.92      0.92      2000\n",
            "\n",
            "Confusion Matrix:\n",
            "[[929  71]\n",
            " [ 90 910]]\n"
          ]
        }
      ]
    },
    {
      "cell_type": "code",
      "source": [
        "import joblib\n",
        "\n",
        "svm_model_filename = \"svm_model.pkl\"\n",
        "joblib.dump(svm, svm_model_filename)\n",
        "\n",
        "rf_model_filename = \"rf_model.pkl\"\n",
        "joblib.dump(rf, rf_model_filename)"
      ],
      "metadata": {
        "colab": {
          "base_uri": "https://localhost:8080/"
        },
        "id": "gxepn_JN_KZu",
        "outputId": "6857437c-0243-4fd5-bf2c-62e412ab3666"
      },
      "execution_count": 14,
      "outputs": [
        {
          "output_type": "execute_result",
          "data": {
            "text/plain": [
              "['rf_model.pkl']"
            ]
          },
          "metadata": {},
          "execution_count": 14
        }
      ]
    },
    {
      "cell_type": "code",
      "source": [],
      "metadata": {
        "id": "JBersBTbASnP"
      },
      "execution_count": null,
      "outputs": []
    }
  ],
  "metadata": {
    "colab": {
      "provenance": [],
      "include_colab_link": true
    },
    "kernelspec": {
      "display_name": "Python 3",
      "name": "python3"
    },
    "language_info": {
      "name": "python"
    }
  },
  "nbformat": 4,
  "nbformat_minor": 0
}